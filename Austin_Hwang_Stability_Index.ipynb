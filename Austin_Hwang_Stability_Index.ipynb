{
 "cells": [
  {
   "cell_type": "markdown",
   "id": "5edad456",
   "metadata": {},
   "source": [
    "Project 4 Beginning - Austin Hwang"
   ]
  },
  {
   "cell_type": "code",
   "execution_count": 1,
   "id": "9a00a510-8e0c-4e1c-b6ad-0022582d6eb1",
   "metadata": {},
   "outputs": [],
   "source": [
    "import pandas as pd\n"
   ]
  },
  {
   "cell_type": "code",
   "execution_count": 2,
   "id": "a22d3cc0-c052-442e-8a9d-b29312cca19a",
   "metadata": {},
   "outputs": [],
   "source": [
    "# Load datasets\n",
    "penetration_df = pd.read_csv(\"datasets/penetration.csv\")  # Solar adoption per state\n",
    "rate_df = pd.read_csv(\"datasets/rate.csv\")  # Electricity rate per state\n",
    "emission_df = pd.read_csv(\"datasets/emission.csv\")  # Annual emissions per capita\n",
    "wildfire_df = pd.read_csv(\"datasets/Wildfires_by_state_2023.csv\")  # Wildfire incidents per state\n",
    "outage_df = pd.read_csv(\"datasets/power-outages-by-state-2024.csv\")  # Power outage data per state\n"
   ]
  },
  {
   "cell_type": "code",
   "execution_count": 3,
   "id": "d3d73796-5660-4dc6-9b82-fecacf184e19",
   "metadata": {},
   "outputs": [],
   "source": [
    "# Standardizing column names\n",
    "outage_df.rename(columns={\"state\": \"State\", \"PowerOutages\": \"Power_Outage_Count\"}, inplace=True)\n",
    "wildfire_df.rename(columns={\"Number of fires\": \"Wildfire_Count\"}, inplace=True)\n",
    "penetration_df.rename(columns={\"State-level\": \"Solar_Adoption_Rate\"}, inplace=True)\n",
    "emission_df.rename(columns={\"Annual_Emmision_percapita_MT\": \"Emissions_Per_Capita\"}, inplace=True)\n",
    "rate_df.rename(columns={\"Price_Cents/kWh\": \"Electricity_Rate\"}, inplace=True)\n"
   ]
  },
  {
   "cell_type": "code",
   "execution_count": 4,
   "id": "b165d3bd-acf6-457a-ad06-1f9597b32088",
   "metadata": {},
   "outputs": [],
   "source": [
    "# Shorten state names\n",
    "state_name_to_abbreviation = {\n",
    "    'Alabama': 'AL', 'Alaska': 'AK', 'Arizona': 'AZ', 'Arkansas': 'AR', 'California': 'CA',\n",
    "    'Colorado': 'CO', 'Connecticut': 'CT', 'Delaware': 'DE', 'Florida': 'FL', 'Georgia': 'GA',\n",
    "    'Hawaii': 'HI', 'Idaho': 'ID', 'Illinois': 'IL', 'Indiana': 'IN', 'Iowa': 'IA', 'Kansas': 'KS',\n",
    "    'Kentucky': 'KY', 'Louisiana': 'LA', 'Maine': 'ME', 'Maryland': 'MD', 'Massachusetts': 'MA',\n",
    "    'Michigan': 'MI', 'Minnesota': 'MN', 'Mississippi': 'MS', 'Missouri': 'MO', 'Montana': 'MT',\n",
    "    'Nebraska': 'NE', 'Nevada': 'NV', 'New Hampshire': 'NH', 'New Jersey': 'NJ', 'New Mexico': 'NM',\n",
    "    'New York': 'NY', 'North Carolina': 'NC', 'North Dakota': 'ND', 'Ohio': 'OH', 'Oklahoma': 'OK',\n",
    "    'Oregon': 'OR', 'Pennsylvania': 'PA', 'Rhode Island': 'RI', 'South Carolina': 'SC',\n",
    "    'South Dakota': 'SD', 'Tennessee': 'TN', 'Texas': 'TX', 'Utah': 'UT', 'Vermont': 'VT',\n",
    "    'Virginia': 'VA', 'Washington': 'WA', 'West Virginia': 'WV', 'Wisconsin': 'WI', 'Wyoming': 'WY',\n",
    "    'Washington DC': 'DC', 'Puerto Rico': 'PR'\n",
    "}"
   ]
  },
  {
   "cell_type": "code",
   "execution_count": 5,
   "id": "abe2c811",
   "metadata": {},
   "outputs": [],
   "source": [
    "# Apply state name conversion\n",
    "for df in [penetration_df, rate_df, emission_df, wildfire_df, outage_df]:\n",
    "    df['State'] = df['State'].replace(state_name_to_abbreviation)"
   ]
  },
  {
   "cell_type": "code",
   "execution_count": 6,
   "id": "eabff0f5-1a0a-4527-b1f3-56999a3411c2",
   "metadata": {},
   "outputs": [],
   "source": [
    "# Merge all datasets on State\n",
    "merged_df = (penetration_df\n",
    "    .merge(wildfire_df, on=\"State\", how=\"left\")\n",
    "    .merge(outage_df, on=\"State\", how=\"left\")\n",
    "    .merge(rate_df, on=\"State\", how=\"left\")\n",
    "    .merge(emission_df, on=\"State\", how=\"left\"))"
   ]
  },
  {
   "cell_type": "code",
   "execution_count": 7,
   "id": "cfd62926-3bf5-4439-8b3d-38f34e8e3216",
   "metadata": {},
   "outputs": [],
   "source": [
    "# Convert to numeric\n",
    "for col in [\"Wildfire_Count\", \"Power_Outage_Count\", \"Electricity_Rate\", \"Emissions_Per_Capita\", \"Solar_Adoption_Rate\"]:\n",
    "    merged_df[col] = pd.to_numeric(merged_df[col], errors='coerce').fillna(0)"
   ]
  },
  {
   "cell_type": "code",
   "execution_count": 8,
   "id": "087b64ff-b78d-455e-b229-8392ef75dc7c",
   "metadata": {},
   "outputs": [],
   "source": [
    "# Normalize data by using Min-Max Scaling\n",
    "merged_df[\"Wildfire_Norm\"] = merged_df[\"Wildfire_Count\"] / merged_df[\"Wildfire_Count\"].max()\n",
    "merged_df[\"Solar_Norm\"] = merged_df[\"Solar_Adoption_Rate\"] / merged_df[\"Solar_Adoption_Rate\"].max()\n",
    "merged_df[\"Emission_Norm\"] = merged_df[\"Emissions_Per_Capita\"] / merged_df[\"Emissions_Per_Capita\"].max()\n"
   ]
  },
  {
   "cell_type": "code",
   "execution_count": 9,
   "id": "1c747d79-2dbc-4a5c-b0a3-9a4ef206b4bf",
   "metadata": {},
   "outputs": [],
   "source": [
    "# for power outages data -> put 0 if the value shows 0 \n",
    "if merged_df[\"Power_Outage_Count\"].max() == 0:\n",
    "    merged_df[\"Outage_Norm\"] = 0\n",
    "else:\n",
    "    merged_df[\"Outage_Norm\"] = merged_df[\"Power_Outage_Count\"] / merged_df[\"Power_Outage_Count\"].max()\n"
   ]
  },
  {
   "cell_type": "code",
   "execution_count": 10,
   "id": "5538f10e-f407-425c-b4cf-ec47ffca5903",
   "metadata": {},
   "outputs": [],
   "source": [
    "# Compute index (Solar Energy & Grid Stability) \n",
    "merged_df[\"index\"] = (\n",
    "    0.4 * merged_df[\"Solar_Norm\"] +  ### More solar = more stability\n",
    "    0.2 * (1 - merged_df[\"Wildfire_Norm\"]) +  ### Fewer wildfires = more stability\n",
    "    0.2 * (1 - merged_df[\"Outage_Norm\"]) +  ### Fewer outages = more stability\n",
    "    0.2 * (1 - merged_df[\"Emission_Norm\"])  ### Lower emissions = more stability\n",
    ")"
   ]
  },
  {
   "cell_type": "code",
   "execution_count": 11,
   "id": "62d09325-393e-48bf-8136-00a68e9e98d2",
   "metadata": {},
   "outputs": [
    {
     "name": "stdout",
     "output_type": "stream",
     "text": [
      "   State     index\n",
      "10    HI  0.928396\n",
      "18    ME  0.797157\n",
      "38    PR  0.756522\n",
      "2     AZ  0.723007\n",
      "48    DC  0.713043\n",
      "29    NJ  0.712702\n",
      "4     CA  0.660803\n",
      "30    NM  0.651108\n",
      "27    NV  0.640876\n",
      "20    MA  0.625160\n",
      "45    VT  0.615151\n",
      "14    IA  0.615072\n",
      "19    MD  0.609233\n",
      "36    OR  0.600150\n",
      "39    RI  0.594930\n",
      "50    WI  0.593832\n",
      "7     DE  0.593034\n",
      "8     FL  0.586907\n",
      "12    IL  0.582774\n",
      "31    NY  0.581600\n",
      "25    MT  0.579748\n",
      "46    VA  0.573804\n",
      "28    NH  0.565115\n",
      "15    KS  0.559635\n",
      "24    MO  0.554141\n",
      "40    SC  0.553923\n",
      "37    PA  0.552845\n",
      "16    KY  0.547608\n",
      "47    WA  0.544392\n",
      "9     GA  0.543436\n",
      "32    NC  0.539561\n",
      "3     AR  0.535912\n",
      "13    IN  0.535824\n",
      "35    OK  0.532808\n",
      "41    SD  0.528537\n",
      "22    MN  0.519919\n",
      "6     CT  0.518175\n",
      "0     AL  0.506222\n",
      "23    MS  0.505571\n",
      "49    WV  0.487477\n",
      "44    UT  0.479296\n",
      "26    NE  0.461584\n",
      "21    MI  0.458131\n",
      "17    LA  0.451310\n",
      "5     CO  0.447310\n",
      "43    TX  0.436705\n",
      "1     AK  0.419389\n",
      "11    ID  0.417868\n",
      "42    TN  0.409775\n",
      "51    WY  0.351305\n",
      "33    ND  0.347115\n",
      "34    OH  0.320785\n"
     ]
    }
   ],
   "source": [
    "\n",
    "# results\n",
    "print(merged_df[[\"State\", \"index\"]].sort_values(by=\"index\", ascending=False))"
   ]
  },
  {
   "cell_type": "markdown",
   "id": "ee19fcda",
   "metadata": {},
   "source": [
    "Index value is a numerical score that represents how stable and sustainable a state's energy grid is, based on \n",
    "- Solar adoption rate (higher = more stable) / 0.4 weight\n",
    "- Wildfire count (more wildfires = less stable) / 0.2 weight\n",
    "- Power outage count (more outages = less stable) / 0.2 weight\n",
    "- Emissions per capita (high pollution = less stable) / 0.2 weight\n",
    "\n",
    "\n",
    "The index shows how stable and renewable-friendly a state's energy grid is.\n",
    "higher scores mean a state has fewer outages, lower emissions, and more solar energy.\n",
    "lower scores mean more outages, wildfires, and pollution - so the grid is weaker.\n",
    "I calculatd this by combining solar adoption rate, outages, wildfire, and emissions into a single index score.\n"
   ]
  },
  {
   "cell_type": "code",
   "execution_count": 12,
   "id": "477214fe",
   "metadata": {},
   "outputs": [
    {
     "name": "stderr",
     "output_type": "stream",
     "text": [
      "/var/folders/2z/wq9630lx4dl17_8c406wvh7r0000gn/T/ipykernel_10388/782865805.py:15: UserWarning: set_ticklabels() should only be used with a fixed number of ticks, i.e. after set_ticks() or using a FixedLocator.\n",
      "  axes[0].set_xticklabels(top_states[\"State\"], rotation=45)\n",
      "/var/folders/2z/wq9630lx4dl17_8c406wvh7r0000gn/T/ipykernel_10388/782865805.py:22: UserWarning: set_ticklabels() should only be used with a fixed number of ticks, i.e. after set_ticks() or using a FixedLocator.\n",
      "  axes[1].set_xticklabels(bottom_states[\"State\"], rotation=45)\n"
     ]
    },
    {
     "data": {
      "image/png": "[encoded data removed]",
      "text/plain": [
       "<Figure size 1800x600 with 2 Axes>"
      ]
     },
     "metadata": {},
     "output_type": "display_data"
    }
   ],
   "source": [
    "import matplotlib.pyplot as plt\n",
    "\n",
    "# Get top 10 and bottom 10 states\n",
    "top_states = merged_df.sort_values(\"index\", ascending=False).head(10)\n",
    "bottom_states = merged_df.sort_values(\"index\", ascending=True).head(10)\n",
    "\n",
    "# Create a figure\n",
    "fig, axes = plt.subplots(1, 2, figsize=(18, 6))\n",
    "\n",
    "# Top 10 States\n",
    "axes[0].bar(top_states[\"State\"], top_states[\"index\"], color='green')\n",
    "axes[0].set_xlabel(\"State\")\n",
    "axes[0].set_ylabel(\"Stability Index\")\n",
    "axes[0].set_title(\"Top 10 States by Solar Energy & Grid Stability\")\n",
    "axes[0].set_xticklabels(top_states[\"State\"], rotation=45)\n",
    "\n",
    "# Bottom 10 States\n",
    "axes[1].bar(bottom_states[\"State\"], bottom_states[\"index\"], color='red')\n",
    "axes[1].set_xlabel(\"State\")\n",
    "axes[1].set_ylabel(\"Stability Index\")\n",
    "axes[1].set_title(\"Bottom 10 States by Solar Energy & Grid Stability\")\n",
    "axes[1].set_xticklabels(bottom_states[\"State\"], rotation=45)\n",
    "\n",
    "plt.tight_layout()\n",
    "plt.show()\n"
   ]
  },
  {
   "cell_type": "code",
   "execution_count": 13,
   "id": "16461a4f",
   "metadata": {},
   "outputs": [
    {
     "data": {
      "application/vnd.plotly.v1+json": {
       "config": {
        "plotlyServerURL": "https://plot.ly"
       },
       "data": [
        {
         "coloraxis": "coloraxis",
         "geo": "geo",
         "hovertemplate": "State=%{location}<br>index=%{z}<extra></extra>",
         "locationmode": "USA-states",
         "locations": [
          "AL",
          "AK",
          "AZ",
          "AR",
          "CA",
          "CO",
          "CT",
          "DE",
          "FL",
          "GA",
          "HI",
          "ID",
          "IL",
          "IN",
          "IA",
          "KS",
          "KY",
          "LA",
          "ME",
          "MD",
          "MA",
          "MI",
          "MN",
          "MS",
          "MO",
          "MT",
          "NE",
          "NV",
          "NH",
          "NJ",
          "NM",
          "NY",
          "NC",
          "ND",
          "OH",
          "OK",
          "OR",
          "PA",
          "PR",
          "RI",
          "SC",
          "SD",
          "TN",
          "TX",
          "UT",
          "VT",
          "VA",
          "WA",
          "DC",
          "WV",
          "WI",
          "WY"
         ],
         "name": "",
         "type": "choropleth",
         "z": [
          0.5062217772018691,
          0.41938942515211824,
          0.7230072890577917,
          0.535911946186626,
          0.6608029828883415,
          0.44731021295451123,
          0.5181751416968349,
          0.5930341532131432,
          0.5869070118021447,
          0.5434357079323455,
          0.9283961914310632,
          0.4178676667673938,
          0.5827743313492382,
          0.5358235219138278,
          0.6150723103271214,
          0.5596348325006562,
          0.5476081347130859,
          0.45130979391915543,
          0.7971565598947783,
          0.6092331178713242,
          0.6251600536756007,
          0.45813121114006816,
          0.5199189923800708,
          0.5055709349354066,
          0.5541411486081833,
          0.5797481523403689,
          0.46158448235316796,
          0.6408758332734077,
          0.5651151835630869,
          0.7127023718674295,
          0.6511077634995672,
          0.5816000426518882,
          0.5395606804031133,
          0.34711480574262904,
          0.3207849562605698,
          0.5328077384031509,
          0.6001496395164416,
          0.5528446233062053,
          0.7565217391304349,
          0.5949296047282656,
          0.5539226076351734,
          0.528537484806241,
          0.40977509263246437,
          0.43670528014941756,
          0.47929560916143754,
          0.6151509827615311,
          0.5738042433438132,
          0.5443915271425426,
          0.7130434782608697,
          0.48747652546091197,
          0.5938319794926428,
          0.35130529767885976
         ]
        }
       ],
       "layout": {
        "coloraxis": {
         "colorbar": {
          "title": {
           "text": "index"
          }
         },
         "colorscale": [
          [
           0,
           "#440154"
          ],
          [
           0.1111111111111111,
           "#482878"
          ],
          [
           0.2222222222222222,
           "#3e4989"
          ],
          [
           0.3333333333333333,
           "#31688e"
          ],
          [
           0.4444444444444444,
           "#26828e"
          ],
          [
           0.5555555555555556,
           "#1f9e89"
          ],
          [
           0.6666666666666666,
           "#35b779"
          ],
          [
           0.7777777777777778,
           "#6ece58"
          ],
          [
           0.8888888888888888,
           "#b5de2b"
          ],
          [
           1,
           "#fde725"
          ]
         ]
        },
        "geo": {
         "center": {},
         "domain": {
          "x": [
           0,
           1
          ],
          "y": [
           0,
           1
          ]
         },
         "scope": "usa"
        },
        "legend": {
         "tracegroupgap": 0
        },
        "template": {
         "data": {
          "bar": [
           {
            "error_x": {
             "color": "#2a3f5f"
            },
            "error_y": {
             "color": "#2a3f5f"
            },
            "marker": {
             "line": {
              "color": "#E5ECF6",
              "width": 0.5
             },
             "pattern": {
              "fillmode": "overlay",
              "size": 10,
              "solidity": 0.2
             }
            },
            "type": "bar"
           }
          ],
          "barpolar": [
           {
            "marker": {
             "line": {
              "color": "#E5ECF6",
              "width": 0.5
             },
             "pattern": {
              "fillmode": "overlay",
              "size": 10,
              "solidity": 0.2
             }
            },
            "type": "barpolar"
           }
          ],
          "carpet": [
           {
            "aaxis": {
             "endlinecolor": "#2a3f5f",
             "gridcolor": "white",
             "linecolor": "white",
             "minorgridcolor": "white",
             "startlinecolor": "#2a3f5f"
            },
            "baxis": {
             "endlinecolor": "#2a3f5f",
             "gridcolor": "white",
             "linecolor": "white",
             "minorgridcolor": "white",
             "startlinecolor": "#2a3f5f"
            },
            "type": "carpet"
           }
          ],
          "choropleth": [
           {
            "colorbar": {
             "outlinewidth": 0,
             "ticks": ""
            },
            "type": "choropleth"
           }
          ],
          "contour": [
           {
            "colorbar": {
             "outlinewidth": 0,
             "ticks": ""
            },
            "colorscale": [
             [
              0,
              "#0d0887"
             ],
             [
              0.1111111111111111,
              "#46039f"
             ],
             [
              0.2222222222222222,
              "#7201a8"
             ],
             [
              0.3333333333333333,
              "#9c179e"
             ],
             [
              0.4444444444444444,
              "#bd3786"
             ],
             [
              0.5555555555555556,
              "#d8576b"
             ],
             [
              0.6666666666666666,
              "#ed7953"
             ],
             [
              0.7777777777777778,
              "#fb9f3a"
             ],
             [
              0.8888888888888888,
              "#fdca26"
             ],
             [
              1,
              "#f0f921"
             ]
            ],
            "type": "contour"
           }
          ],
          "contourcarpet": [
           {
            "colorbar": {
             "outlinewidth": 0,
             "ticks": ""
            },
            "type": "contourcarpet"
           }
          ],
          "heatmap": [
           {
            "colorbar": {
             "outlinewidth": 0,
             "ticks": ""
            },
            "colorscale": [
             [
              0,
              "#0d0887"
             ],
             [
              0.1111111111111111,
              "#46039f"
             ],
             [
              0.2222222222222222,
              "#7201a8"
             ],
             [
              0.3333333333333333,
              "#9c179e"
             ],
             [
              0.4444444444444444,
              "#bd3786"
             ],
             [
              0.5555555555555556,
              "#d8576b"
             ],
             [
              0.6666666666666666,
              "#ed7953"
             ],
             [
              0.7777777777777778,
              "#fb9f3a"
             ],
             [
              0.8888888888888888,
              "#fdca26"
             ],
             [
              1,
              "#f0f921"
             ]
            ],
            "type": "heatmap"
           }
          ],
          "heatmapgl": [
           {
            "colorbar": {
             "outlinewidth": 0,
             "ticks": ""
            },
            "colorscale": [
             [
              0,
              "#0d0887"
             ],
             [
              0.1111111111111111,
              "#46039f"
             ],
             [
              0.2222222222222222,
              "#7201a8"
             ],
             [
              0.3333333333333333,
              "#9c179e"
             ],
             [
              0.4444444444444444,
              "#bd3786"
             ],
             [
              0.5555555555555556,
              "#d8576b"
             ],
             [
              0.6666666666666666,
              "#ed7953"
             ],
             [
              0.7777777777777778,
              "#fb9f3a"
             ],
             [
              0.8888888888888888,
              "#fdca26"
             ],
             [
              1,
              "#f0f921"
             ]
            ],
            "type": "heatmapgl"
           }
          ],
          "histogram": [
           {
            "marker": {
             "pattern": {
              "fillmode": "overlay",
              "size": 10,
              "solidity": 0.2
             }
            },
            "type": "histogram"
           }
          ],
          "histogram2d": [
           {
            "colorbar": {
             "outlinewidth": 0,
             "ticks": ""
            },
            "colorscale": [
             [
              0,
              "#0d0887"
             ],
             [
              0.1111111111111111,
              "#46039f"
             ],
             [
              0.2222222222222222,
              "#7201a8"
             ],
             [
              0.3333333333333333,
              "#9c179e"
             ],
             [
              0.4444444444444444,
              "#bd3786"
             ],
             [
              0.5555555555555556,
              "#d8576b"
             ],
             [
              0.6666666666666666,
              "#ed7953"
             ],
             [
              0.7777777777777778,
              "#fb9f3a"
             ],
             [
              0.8888888888888888,
              "#fdca26"
             ],
             [
              1,
              "#f0f921"
             ]
            ],
            "type": "histogram2d"
           }
          ],
          "histogram2dcontour": [
           {
            "colorbar": {
             "outlinewidth": 0,
             "ticks": ""
            },
            "colorscale": [
             [
              0,
              "#0d0887"
             ],
             [
              0.1111111111111111,
              "#46039f"
             ],
             [
              0.2222222222222222,
              "#7201a8"
             ],
             [
              0.3333333333333333,
              "#9c179e"
             ],
             [
              0.4444444444444444,
              "#bd3786"
             ],
             [
              0.5555555555555556,
              "#d8576b"
             ],
             [
              0.6666666666666666,
              "#ed7953"
             ],
             [
              0.7777777777777778,
              "#fb9f3a"
             ],
             [
              0.8888888888888888,
              "#fdca26"
             ],
             [
              1,
              "#f0f921"
             ]
            ],
            "type": "histogram2dcontour"
           }
          ],
          "mesh3d": [
           {
            "colorbar": {
             "outlinewidth": 0,
             "ticks": ""
            },
            "type": "mesh3d"
           }
          ],
          "parcoords": [
           {
            "line": {
             "colorbar": {
              "outlinewidth": 0,
              "ticks": ""
             }
            },
            "type": "parcoords"
           }
          ],
          "pie": [
           {
            "automargin": true,
            "type": "pie"
           }
          ],
          "scatter": [
           {
            "fillpattern": {
             "fillmode": "overlay",
             "size": 10,
             "solidity": 0.2
            },
            "type": "scatter"
           }
          ],
          "scatter3d": [
           {
            "line": {
             "colorbar": {
              "outlinewidth": 0,
              "ticks": ""
             }
            },
            "marker": {
             "colorbar": {
              "outlinewidth": 0,
              "ticks": ""
             }
            },
            "type": "scatter3d"
           }
          ],
          "scattercarpet": [
           {
            "marker": {
             "colorbar": {
              "outlinewidth": 0,
              "ticks": ""
             }
            },
            "type": "scattercarpet"
           }
          ],
          "scattergeo": [
           {
            "marker": {
             "colorbar": {
              "outlinewidth": 0,
              "ticks": ""
             }
            },
            "type": "scattergeo"
           }
          ],
          "scattergl": [
           {
            "marker": {
             "colorbar": {
              "outlinewidth": 0,
              "ticks": ""
             }
            },
            "type": "scattergl"
           }
          ],
          "scattermapbox": [
           {
            "marker": {
             "colorbar": {
              "outlinewidth": 0,
              "ticks": ""
             }
            },
            "type": "scattermapbox"
           }
          ],
          "scatterpolar": [
           {
            "marker": {
             "colorbar": {
              "outlinewidth": 0,
              "ticks": ""
             }
            },
            "type": "scatterpolar"
           }
          ],
          "scatterpolargl": [
           {
            "marker": {
             "colorbar": {
              "outlinewidth": 0,
              "ticks": ""
             }
            },
            "type": "scatterpolargl"
           }
          ],
          "scatterternary": [
           {
            "marker": {
             "colorbar": {
              "outlinewidth": 0,
              "ticks": ""
             }
            },
            "type": "scatterternary"
           }
          ],
          "surface": [
           {
            "colorbar": {
             "outlinewidth": 0,
             "ticks": ""
            },
            "colorscale": [
             [
              0,
              "#0d0887"
             ],
             [
              0.1111111111111111,
              "#46039f"
             ],
             [
              0.2222222222222222,
              "#7201a8"
             ],
             [
              0.3333333333333333,
              "#9c179e"
             ],
             [
              0.4444444444444444,
              "#bd3786"
             ],
             [
              0.5555555555555556,
              "#d8576b"
             ],
             [
              0.6666666666666666,
              "#ed7953"
             ],
             [
              0.7777777777777778,
              "#fb9f3a"
             ],
             [
              0.8888888888888888,
              "#fdca26"
             ],
             [
              1,
              "#f0f921"
             ]
            ],
            "type": "surface"
           }
          ],
          "table": [
           {
            "cells": {
             "fill": {
              "color": "#EBF0F8"
             },
             "line": {
              "color": "white"
             }
            },
            "header": {
             "fill": {
              "color": "#C8D4E3"
             },
             "line": {
              "color": "white"
             }
            },
            "type": "table"
           }
          ]
         },
         "layout": {
          "annotationdefaults": {
           "arrowcolor": "#2a3f5f",
           "arrowhead": 0,
           "arrowwidth": 1
          },
          "autotypenumbers": "strict",
          "coloraxis": {
           "colorbar": {
            "outlinewidth": 0,
            "ticks": ""
           }
          },
          "colorscale": {
           "diverging": [
            [
             0,
             "#8e0152"
            ],
            [
             0.1,
             "#c51b7d"
            ],
            [
             0.2,
             "#de77ae"
            ],
            [
             0.3,
             "#f1b6da"
            ],
            [
             0.4,
             "#fde0ef"
            ],
            [
             0.5,
             "#f7f7f7"
            ],
            [
             0.6,
             "#e6f5d0"
            ],
            [
             0.7,
             "#b8e186"
            ],
            [
             0.8,
             "#7fbc41"
            ],
            [
             0.9,
             "#4d9221"
            ],
            [
             1,
             "#276419"
            ]
           ],
           "sequential": [
            [
             0,
             "#0d0887"
            ],
            [
             0.1111111111111111,
             "#46039f"
            ],
            [
             0.2222222222222222,
             "#7201a8"
            ],
            [
             0.3333333333333333,
             "#9c179e"
            ],
            [
             0.4444444444444444,
             "#bd3786"
            ],
            [
             0.5555555555555556,
             "#d8576b"
            ],
            [
             0.6666666666666666,
             "#ed7953"
            ],
            [
             0.7777777777777778,
             "#fb9f3a"
            ],
            [
             0.8888888888888888,
             "#fdca26"
            ],
            [
             1,
             "#f0f921"
            ]
           ],
           "sequentialminus": [
            [
             0,
             "#0d0887"
            ],
            [
             0.1111111111111111,
             "#46039f"
            ],
            [
             0.2222222222222222,
             "#7201a8"
            ],
            [
             0.3333333333333333,
             "#9c179e"
            ],
            [
             0.4444444444444444,
             "#bd3786"
            ],
            [
             0.5555555555555556,
             "#d8576b"
            ],
            [
             0.6666666666666666,
             "#ed7953"
            ],
            [
             0.7777777777777778,
             "#fb9f3a"
            ],
            [
             0.8888888888888888,
             "#fdca26"
            ],
            [
             1,
             "#f0f921"
            ]
           ]
          },
          "colorway": [
           "#636efa",
           "#EF553B",
           "#00cc96",
           "#ab63fa",
           "#FFA15A",
           "#19d3f3",
           "#FF6692",
           "#B6E880",
           "#FF97FF",
           "#FECB52"
          ],
          "font": {
           "color": "#2a3f5f"
          },
          "geo": {
           "bgcolor": "white",
           "lakecolor": "white",
           "landcolor": "#E5ECF6",
           "showlakes": true,
           "showland": true,
           "subunitcolor": "white"
          },
          "hoverlabel": {
           "align": "left"
          },
          "hovermode": "closest",
          "mapbox": {
           "style": "light"
          },
          "paper_bgcolor": "white",
          "plot_bgcolor": "#E5ECF6",
          "polar": {
           "angularaxis": {
            "gridcolor": "white",
            "linecolor": "white",
            "ticks": ""
           },
           "bgcolor": "#E5ECF6",
           "radialaxis": {
            "gridcolor": "white",
            "linecolor": "white",
            "ticks": ""
           }
          },
          "scene": {
           "xaxis": {
            "backgroundcolor": "#E5ECF6",
            "gridcolor": "white",
            "gridwidth": 2,
            "linecolor": "white",
            "showbackground": true,
            "ticks": "",
            "zerolinecolor": "white"
           },
           "yaxis": {
            "backgroundcolor": "#E5ECF6",
            "gridcolor": "white",
            "gridwidth": 2,
            "linecolor": "white",
            "showbackground": true,
            "ticks": "",
            "zerolinecolor": "white"
           },
           "zaxis": {
            "backgroundcolor": "#E5ECF6",
            "gridcolor": "white",
            "gridwidth": 2,
            "linecolor": "white",
            "showbackground": true,
            "ticks": "",
            "zerolinecolor": "white"
           }
          },
          "shapedefaults": {
           "line": {
            "color": "#2a3f5f"
           }
          },
          "ternary": {
           "aaxis": {
            "gridcolor": "white",
            "linecolor": "white",
            "ticks": ""
           },
           "baxis": {
            "gridcolor": "white",
            "linecolor": "white",
            "ticks": ""
           },
           "bgcolor": "#E5ECF6",
           "caxis": {
            "gridcolor": "white",
            "linecolor": "white",
            "ticks": ""
           }
          },
          "title": {
           "x": 0.05
          },
          "xaxis": {
           "automargin": true,
           "gridcolor": "white",
           "linecolor": "white",
           "ticks": "",
           "title": {
            "standoff": 15
           },
           "zerolinecolor": "white",
           "zerolinewidth": 2
          },
          "yaxis": {
           "automargin": true,
           "gridcolor": "white",
           "linecolor": "white",
           "ticks": "",
           "title": {
            "standoff": 15
           },
           "zerolinecolor": "white",
           "zerolinewidth": 2
          }
         }
        },
        "title": {
         "text": "Energy & Grid Stability Index (index) by State"
        }
       }
      }
     },
     "metadata": {},
     "output_type": "display_data"
    }
   ],
   "source": [
    "import plotly.express as px\n",
    "\n",
    "fig = px.choropleth(\n",
    "    merged_df,  \n",
    "    locations='State',  \n",
    "    locationmode='USA-states',  \n",
    "    color='index',  \n",
    "    scope='usa',  \n",
    "    title='Energy & Grid Stability Index (index) by State',\n",
    "    color_continuous_scale='Viridis'\n",
    ")\n",
    "\n",
    "fig.show()\n"
   ]
  },
  {
   "cell_type": "code",
   "execution_count": 14,
   "id": "b724dcec",
   "metadata": {},
   "outputs": [
    {
     "data": {
      "image/png": "[encoded data removed]",
      "text/plain": [
       "<Figure size 800x600 with 1 Axes>"
      ]
     },
     "metadata": {},
     "output_type": "display_data"
    }
   ],
   "source": [
    "import seaborn as sns\n",
    "import matplotlib.pyplot as plt\n",
    "\n",
    "plt.figure(figsize=(8, 6))\n",
    "sns.boxplot(y=merged_df[\"index\"], color=\"blue\")\n",
    "plt.title(\"Distribution of Stability Index\")\n",
    "plt.ylabel(\"index Score\")\n",
    "plt.show()\n"
   ]
  },
  {
   "cell_type": "markdown",
   "id": "82247da1",
   "metadata": {},
   "source": [
    "Shows spread and variability in index\n"
   ]
  },
  {
   "cell_type": "code",
   "execution_count": 15,
   "id": "36e30454",
   "metadata": {},
   "outputs": [
    {
     "name": "stderr",
     "output_type": "stream",
     "text": [
      "/var/folders/2z/wq9630lx4dl17_8c406wvh7r0000gn/T/ipykernel_10388/1226384651.py:2: FutureWarning:\n",
      "\n",
      "\n",
      "\n",
      "Passing `palette` without assigning `hue` is deprecated and will be removed in v0.14.0. Assign the `x` variable to `hue` and set `legend=False` for the same effect.\n",
      "\n",
      "\n"
     ]
    },
    {
     "data": {
      "image/png": "[encoded data removed]",
      "text/plain": [
       "<Figure size 1000x600 with 1 Axes>"
      ]
     },
     "metadata": {},
     "output_type": "display_data"
    }
   ],
   "source": [
    "plt.figure(figsize=(10, 6))\n",
    "sns.violinplot(x=pd.qcut(merged_df[\"Solar_Adoption_Rate\"], q=4, labels=[\"Low\", \"Medium\", \"High\", \"Very High\"]),\n",
    "               y=merged_df[\"index\"], palette=\"Blues\")\n",
    "plt.xlabel(\"Solar Adoption Level\")\n",
    "plt.ylabel(\"Grid Stability Index (index)\")\n",
    "plt.title(\"Grid Stability by Solar Adoption Level\")\n",
    "plt.show()\n"
   ]
  },
  {
   "cell_type": "markdown",
   "id": "a5388c90",
   "metadata": {},
   "source": [
    "This shows how the index is distributed among states with different levels of solar adoption.\n",
    "This highlights whether higher solar adoption = more stable grid."
   ]
  },
  {
   "cell_type": "code",
   "execution_count": 20,
   "id": "bf06e4dd",
   "metadata": {},
   "outputs": [
    {
     "name": "stdout",
     "output_type": "stream",
     "text": [
      "Accuracy: 0.03724648526756664\n"
     ]
    }
   ],
   "source": [
    "from sklearn.model_selection import train_test_split\n",
    "from sklearn.ensemble import RandomForestRegressor\n",
    "from sklearn.metrics import mean_absolute_error\n",
    "\n",
    "# Define x and y\n",
    "X = merged_df[[\"Solar_Adoption_Rate\", \"Wildfire_Count\", \"Power_Outage_Count\", \"Emissions_Per_Capita\", \"Electricity_Rate\"]]\n",
    "y = merged_df[\"index\"]\n",
    "\n",
    "# Train-test split\n",
    "X_train, X_test, y_train, y_test = train_test_split(X, y, test_size=0.2, random_state=42)\n",
    "\n",
    "# Train model\n",
    "model = RandomForestRegressor(n_estimators=100, random_state=42)\n",
    "model.fit(X_train, y_train)\n",
    "\n",
    "# Predict index\n",
    "y_pred = model.predict(X_test)\n",
    "\n",
    "# Evaluate model\n",
    "accuracy = mean_absolute_error(y_test, y_pred)\n",
    "print(\"Accuracy:\", accuracy)\n"
   ]
  },
  {
   "cell_type": "markdown",
   "id": "a148e526",
   "metadata": {},
   "source": [
    "MAE Range 0.00 - 0.05 = excellent prediction\n",
    "0.05 - 0.10 = good prediction\n",
    "0.10 - 0.20 = moderate \n",
    "above 0.20 = high error\n",
    "\n",
    "0.0372 is excellent result"
   ]
  },
  {
   "cell_type": "code",
   "execution_count": 17,
   "id": "522b8455",
   "metadata": {},
   "outputs": [
    {
     "data": {
      "image/png": "[encoded data removed]",
      "text/plain": [
       "<Figure size 800x600 with 1 Axes>"
      ]
     },
     "metadata": {},
     "output_type": "display_data"
    }
   ],
   "source": [
    "import matplotlib.pyplot as plt\n",
    "import numpy as np\n",
    "\n",
    "# Actual vs predicted\n",
    "plt.figure(figsize=(8, 6))\n",
    "plt.scatter(y_test, y_pred, alpha=0.6, color=\"blue\", label=\"Predicted vs Actual\")\n",
    "plt.plot([min(y_test), max(y_test)], [min(y_test), max(y_test)], linestyle=\"--\", color=\"red\", label=\"Perfect Fit\") \n",
    "\n",
    "# Labels and title\n",
    "plt.xlabel(\"Actual index\")\n",
    "plt.ylabel(\"Predicted index\")\n",
    "plt.title(\"Actual vs Predicted index Scores\")\n",
    "plt.legend()\n",
    "plt.show()"
   ]
  },
  {
   "cell_type": "markdown",
   "id": "7bc0e9a9",
   "metadata": {},
   "source": [
    "Scattor plot compares the actual index value with the predicted index value. Red line represents a perfect prediction, meaning if all blue dots were on the line, the model would be 100% accurate.\n",
    "\n",
    "Most points are close to the red line, meaning model is doing a good job predicting the index.\n",
    "\n",
    "Overall accuracy is good with only 0.0372 Mean Absolute Error. model's predictions are very close to the actual values. Model seems reliable.\n",
    "\n",
    "- Scatter plot compares our model's predicted index scores against the actual scores.\n",
    "- Since most points are close to the red line, our model is making accurate predictions with a low error rate of only 3.7%\n",
    "- This means our model can successfuly estimate a state's energy grid stability, helpnig predict future trends\n"
   ]
  },
  {
   "cell_type": "code",
   "execution_count": 18,
   "id": "0b677fd0",
   "metadata": {},
   "outputs": [
    {
     "data": {
      "image/png": "[encoded data removed]",
      "text/plain": [
       "<Figure size 1000x600 with 1 Axes>"
      ]
     },
     "metadata": {},
     "output_type": "display_data"
    }
   ],
   "source": [
    "import matplotlib.pyplot as plt\n",
    "import numpy as np\n",
    "\n",
    "# Use feature importance\n",
    "feature_importance = model.feature_importances_\n",
    "features = X.columns\n",
    "\n",
    "# Plot\n",
    "plt.figure(figsize=(10,6))\n",
    "plt.barh(features, feature_importance, color=\"skyblue\")\n",
    "plt.xlabel(\"Importance\")\n",
    "plt.title(\"Feature Importance in Predicting index\")\n",
    "plt.show()\n"
   ]
  },
  {
   "cell_type": "markdown",
   "id": "376910fd",
   "metadata": {},
   "source": [
    "This analyszes which factros contribute the most to the index\n",
    "This helps to understand which policies will improve energy stability\n"
   ]
  },
  {
   "cell_type": "code",
   "execution_count": null,
   "id": "5e5d51c8",
   "metadata": {},
   "outputs": [],
   "source": []
  },
  {
   "cell_type": "markdown",
   "id": "48894ec0",
   "metadata": {},
   "source": []
  },
  {
   "cell_type": "markdown",
   "id": "25a75159",
   "metadata": {},
   "source": []
  }
 ],
 "metadata": {
  "kernelspec": {
   "display_name": "dev",
   "language": "python",
   "name": "python3"
  },
  "language_info": {
   "codemirror_mode": {
    "name": "ipython",
    "version": 3
   },
   "file_extension": ".py",
   "mimetype": "text/x-python",
   "name": "python",
   "nbconvert_exporter": "python",
   "pygments_lexer": "ipython3",
   "version": "3.12.4"
  }
 },
 "nbformat": 4,
 "nbformat_minor": 5
}
